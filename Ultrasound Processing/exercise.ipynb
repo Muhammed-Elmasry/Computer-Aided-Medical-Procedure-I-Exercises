{
 "cells": [
  {
   "cell_type": "markdown",
   "metadata": {},
   "source": [
    "# CAMP1 - Ultrasound Processing Exercise\n",
    "\n",
    "This exercise is split into two parts: \n",
    "\n",
    "1. Conventional image processing techniques to perform image filtering/denoising in Ultrasound.\n",
    "2. Conventional feature detection techniques in Ultrasound.\n",
    "\n",
    "During the exercise session you will write the code in #TODO\n",
    "\n",
    "After the exercise there will be a short quiz with questions related to this exercise. Please keep this jupyter notebook open while doing the quiz in the case you want to check some of the results/implementations."
   ]
  },
  {
   "cell_type": "markdown",
   "metadata": {},
   "source": [
    "## 1.0 Install and load packages"
   ]
  },
  {
   "cell_type": "code",
   "execution_count": null,
   "metadata": {},
   "outputs": [],
   "source": [
    "%pip install numpy\n",
    "%pip install matplotlib\n",
    "%pip install opencv-python\n",
    "%pip install scipy"
   ]
  },
  {
   "cell_type": "code",
   "execution_count": null,
   "metadata": {},
   "outputs": [],
   "source": [
    "import numpy as np\n",
    "import matplotlib.pyplot as plt\n",
    "import cv2\n",
    "import pywt\n",
    "import scipy.signal as signal"
   ]
  },
  {
   "cell_type": "markdown",
   "metadata": {},
   "source": [
    "## 1.1 Load the data and visualize it"
   ]
  },
  {
   "cell_type": "code",
   "execution_count": null,
   "metadata": {},
   "outputs": [],
   "source": [
    "# Load the image\n",
    "image_path = 'data/thyroid_image.jpeg'\n",
    "thyroid_image = cv2.imread(image_path, cv2.IMREAD_GRAYSCALE)\n",
    "\n",
    "# Display the image\n",
    "plt.figure(figsize=(15,15))\n",
    "plt.imshow(thyroid_image, cmap='gray')\n",
    "plt.show()"
   ]
  },
  {
   "cell_type": "markdown",
   "metadata": {},
   "source": [
    "This image is too big, let's crop to only see the part that we are intersted in."
   ]
  },
  {
   "cell_type": "code",
   "execution_count": null,
   "metadata": {},
   "outputs": [],
   "source": [
    "# Coordinates for cropping\n",
    "x1, y1 = 483, 218\n",
    "x2, y2 = 788, 748\n",
    "\n",
    "# Crop the image using numpy slicing\n",
    "thyroid_image = thyroid_image[y1:y2, x1:x2]\n",
    "\n",
    "# Display the cropped image\n",
    "plt.figure(figsize=(10, 10))\n",
    "plt.imshow(thyroid_image, cmap='gray', )\n",
    "\n",
    "plt.axis('off')\n",
    "plt.show()"
   ]
  },
  {
   "cell_type": "markdown",
   "metadata": {},
   "source": [
    "## 1.2 Apply common filters\n",
    "\n",
    "### Mean Filter\n",
    "The mean filter kernel is defined as:\n",
    "$$\n",
    "\\text{Mean Kernel} = \\frac{1}{9} \\begin{bmatrix} 1 & 1 & 1 \\\\ 1 & 1 & 1 \\\\ 1 & 1 & 1 \\end{bmatrix}\n",
    "$$\n",
    "The mean filtered image is obtained by convolving the image with the mean kernel:\n",
    "$$\n",
    "\\text{Mean Filtered Image} = \\text{Image} * \\text{Mean Kernel}\n",
    "$$\n",
    "\n",
    "### Gaussian Filter\n",
    "The Gaussian filter kernel is defined as:\n",
    "$$\n",
    "\\text{Gaussian Kernel} = \\frac{1}{16} \\begin{bmatrix} 1 & 2 & 1 \\\\ 2 & 4 & 2 \\\\ 1 & 2 & 1 \\end{bmatrix}\n",
    "$$\n",
    "The Gaussian filtered image is obtained by convolving the image with the Gaussian kernel:\n",
    "$$\n",
    "\\text{Gaussian Filtered Image} = \\text{Image} * \\text{Gaussian Kernel}\n",
    "$$\n"
   ]
  },
  {
   "cell_type": "code",
   "execution_count": null,
   "metadata": {},
   "outputs": [],
   "source": [
    "# TODO: Define the filtering kernels and convolute them with the cropped image (you can use the function signal.convolve2d)\n",
    "mean_filtered_img = \n",
    "gaussian_filtered_img = \n",
    "\n",
    "# Display the filtered images\n",
    "fig, axs = plt.subplots(1, 3, figsize=(18, 10))\n",
    "axs[0].imshow(thyroid_image, cmap='gray')\n",
    "axs[0].set_title('Original Image')\n",
    "axs[0].axis('off')\n",
    "axs[1].imshow(mean_filtered_img, cmap='gray')\n",
    "axs[1].set_title('Mean Filter')\n",
    "axs[1].axis('off')\n",
    "axs[2].imshow(gaussian_filtered_img, cmap='gray')\n",
    "axs[2].set_title('Gaussian Filter')\n",
    "axs[2].axis('off')\n",
    "plt.tight_layout()\n",
    "plt.show()"
   ]
  },
  {
   "cell_type": "markdown",
   "metadata": {},
   "source": [
    "As the difference is not that easy to detect, let us visualize one single column of the image."
   ]
  },
  {
   "cell_type": "code",
   "execution_count": null,
   "metadata": {},
   "outputs": [],
   "source": [
    "index = 20\n",
    "img_array = [thyroid_image, mean_filtered_img, gaussian_filtered_img]\n",
    "\n",
    "# visualize the index column\n",
    "plt.figure(figsize=(20, 5))\n",
    "for image in img_array:\n",
    "    plt.plot(np.arange(len(image[:, index])), image[:, index])\n",
    "plt.legend(['Original Image', 'Mean Filter', 'Gaussian Filter'])\n",
    "\n",
    "# Set the plot title and labels\n",
    "plt.title('Column Visualization')\n",
    "plt.xlabel('Column Index')\n",
    "plt.ylabel('Intensity Value')\n",
    "\n",
    "# Display the plot\n",
    "plt.show()\n"
   ]
  },
  {
   "cell_type": "markdown",
   "metadata": {},
   "source": [
    "## 1.3 Wavelet Filtering/Denoising\n",
    "\n",
    "Wavelets represent a significant advancement in the field of image processing, particularly for applications like ultrasound image denoising. Unlike traditional Fourier transforms, which excel in analyzing stationary signals but lack precision in time localization, wavelets offer a more dynamic approach. They provide both time and frequency information, making them especially useful for processing non-stationary signals, such as those in medical imaging.\n",
    "\n",
    "The process of using wavelets for image denoising involves several key steps. First, the image is decomposed into a series of wavelet coefficients. This decomposition breaks down the image into different levels of detail, allowing for a multi-resolution analysis. In the denoising phase, these wavelet coefficients are carefully examined and manipulated. Typically, smaller coefficients, which are often associated with noise, are reduced or eliminated, while the larger coefficients, representing important features of the image, are preserved.\n",
    "\n",
    "Finally, the image is reconstructed from these modified wavelet coefficients. This reconstruction is crucial as it ensures that while noise is reduced, essential details and edges in the image are retained. The ability of wavelets to adapt to different scales and features of the signal makes them particularly effective in preserving the integrity of important structures in ultrasound images, a critical aspect in medical diagnostics.\n",
    "\n",
    "### Wavelet Families\n",
    "\n",
    "Haar Wavelets: The simplest and earliest form of wavelets, known for their simplicity and efficiency. They are particularly useful for quick analysis but may not be ideal for capturing finer details in an image.\n",
    "\n",
    "Daubechies Wavelets: Named after Ingrid Daubechies, these wavelets are widely used due to their ability to compactly represent signals with many zeros. They are excellent for denoising and are often used in medical image processing.\n",
    "\n",
    "Symlets: Similar to Daubechies, Symlets are slightly modified to be more symmetric. This symmetry makes them more suitable for applications where phase distortion is a concern.\n",
    "\n",
    "Coiflets: Designed to achieve higher degrees of smoothness, Coiflets are useful for detecting and preserving features such as edges in images."
   ]
  },
  {
   "cell_type": "code",
   "execution_count": null,
   "metadata": {},
   "outputs": [],
   "source": [
    "# List of Wavelet Families to Visualize\n",
    "wavelet_families = ['haar', 'db4', 'sym4', 'coif1']\n",
    "\n",
    "# Plotting\n",
    "fig, axs = plt.subplots(len(wavelet_families), 1, figsize=(10, 10))\n",
    "fig.subplots_adjust(hspace=0.5, wspace=0.3)\n",
    "for i, wf in enumerate(wavelet_families):\n",
    "    wavelet = pywt.Wavelet(wf)\n",
    "    _, psi, x = wavelet.wavefun(level=2)\n",
    "\n",
    "    axs[i].plot(x, psi)\n",
    "    axs[i].set_title(f'{wf} - Wavelet Function (Psi)')\n",
    "    axs[i].grid(True)\n",
    "\n",
    "# Show plots\n",
    "plt.show()"
   ]
  },
  {
   "cell_type": "code",
   "execution_count": null,
   "metadata": {},
   "outputs": [],
   "source": [
    "# Define the wavelet family and the level\n",
    "wavelet='db2'\n",
    "level=1\n",
    "\n",
    "# TODO: Compute the wavelet coefficients using the function pywt.wavedec2()\n",
    "coeffs = \n",
    "# TODO: Analyze the coefficients and check the shape, then plot the approximation and details\n",
    "cA, (cH, cV, cD) = \n",
    "\n",
    "# Plotting\n",
    "fig, axs = plt.subplots(2, 2, figsize=(10, 10))\n",
    "\n",
    "# Coefficients: Approximation, Horizontal, Vertical, and Diagonal\n",
    "axs[0, 0].imshow(cA, cmap='gray')\n",
    "axs[0, 0].set_title('Approximation')\n",
    "axs[0, 1].imshow(cH, cmap='gray')\n",
    "axs[0, 1].set_title('Horizontal Detail')\n",
    "axs[1, 0].imshow(cV, cmap='gray')\n",
    "axs[1, 0].set_title('Vertical Detail')\n",
    "axs[1, 1].imshow(cD, cmap='gray')\n",
    "axs[1, 1].set_title('Diagonal Detail')\n",
    "\n",
    "plt.tight_layout()\n",
    "plt.show()"
   ]
  },
  {
   "cell_type": "markdown",
   "metadata": {},
   "source": [
    "Now let us apply the wavelet denoising to the image.\n",
    "\n",
    "Therefore we need to threshold the detail coefficients. The universal threshold is defined as:\n",
    "$$\n",
    "T = \\sigma \\sqrt{2 \\log N}\n",
    "$$\n",
    "where $\\sigma$ is the standard deviation of the noise and $N$ is the number of coefficients.\n",
    "\n",
    "For simplicity we assume that the noise is normal distributed.\n",
    "Therfore we can estimate the standard deviation of the noise following the median absolute deviation (MAD) of the diagonal detail coefficients.\n",
    "\n",
    "The equation is:\n",
    "$$\n",
    "\\sigma = \\frac{\\text{MAD}}{0.6745}\n",
    "$$\n",
    "\n",
    "\n"
   ]
  },
  {
   "cell_type": "code",
   "execution_count": null,
   "metadata": {},
   "outputs": [],
   "source": [
    "def denoise_image_with_wavelets(img, wavelet='db2', mode='soft', levels=1):\n",
    "\n",
    "    # Wavelet transform - Multi-level decomposition\n",
    "    coeffs = pywt.wavedec2(img, wavelet, level=levels)\n",
    "    coeffs_thresh = [coeffs[0]]  # Start with approximation coefficients\n",
    "\n",
    "    # Thresholding detail coefficients at each level\n",
    "    for level in range(1, len(coeffs)):\n",
    "        cH, cV, cD = coeffs[level]\n",
    "\n",
    "        # TODO: Thresholding detail coefficients at each level\n",
    "        threshold =\n",
    "\n",
    "        cH_thresh = pywt.threshold(cH, threshold, mode=mode)\n",
    "        cV_thresh = pywt.threshold(cV, threshold, mode=mode)\n",
    "        cD_thresh = pywt.threshold(cD, threshold, mode=mode)\n",
    "\n",
    "        coeffs_thresh.append((cH_thresh, cV_thresh, cD_thresh))\n",
    "\n",
    "    # Reconstruct image\n",
    "    reconstructed = pywt.waverec2(coeffs_thresh, wavelet)\n",
    "\n",
    "    return np.clip(reconstructed, 0, 255).astype(np.uint8)\n",
    "\n",
    "# Denoise the image using wavelets\n",
    "# TODO: Try different wavelets and levels and change between soft and hard thresholding\n",
    "denoised_img = denoise_image_with_wavelets(thyroid_image, wavelet='db5', mode='soft', levels=4)\n",
    "\n",
    "#visualize the original and the denoised image next to each other\n",
    "# Display the filtered images\n",
    "fig, axs = plt.subplots(1, 2, figsize=(18, 10))\n",
    "axs[0].imshow(thyroid_image, cmap='gray')\n",
    "axs[0].set_title('Original Image')\n",
    "axs[0].axis('off')\n",
    "axs[1].imshow(denoised_img, cmap='gray')\n",
    "axs[1].set_title('Denoised Image using Wavelets')\n",
    "axs[1].axis('off')\n",
    "plt.tight_layout()\n",
    "plt.show()\n"
   ]
  },
  {
   "cell_type": "markdown",
   "metadata": {},
   "source": [
    "## 2. Feature Detection with Gabor Filtering\n",
    "\n",
    "In this section the goal is to detect the visible edge of a needle in an Ultrasound image.\n",
    "\n",
    "We will use Gabor Filters for this. Gabor filters are a class of linear filters that are very effective for texture discrimination. They are built from a sinusoidal plane wave that is modulated by a Gaussian kernel. The Gaussian kernel is oriented at a specific angle $\\theta$ and has a specific wavelength $\\lambda$."
   ]
  },
  {
   "cell_type": "markdown",
   "metadata": {},
   "source": [
    "## 2.0 Load the data and visualize it"
   ]
  },
  {
   "cell_type": "code",
   "execution_count": null,
   "metadata": {},
   "outputs": [],
   "source": [
    "\n",
    "# Load the image\n",
    "image_path = 'data/needle_image.jpg'\n",
    "img_needle = cv2.imread(image_path, cv2.IMREAD_GRAYSCALE)\n",
    "\n",
    "# Display the image\n",
    "plt.figure(figsize=(10,10))\n",
    "plt.imshow(img_needle, cmap='gray')\n",
    "plt.show()"
   ]
  },
  {
   "cell_type": "markdown",
   "metadata": {},
   "source": [
    "## 2.1 Define the Gabor filter and visualize it\n",
    "\n",
    "### Gabor Filter Formula\n",
    "\n",
    "The Gabor filter is defined by the following formula:\n",
    "\n",
    "$$\n",
    "g(x, y; \\lambda, \\theta, \\psi, \\sigma, \\gamma) = \\exp\\left(-\\frac{x'^2 + \\gamma^2 y'^2}{2\\sigma^2}\\right) \\cos\\left(2\\pi\\frac{x'}{\\lambda} + \\psi\\right)\n",
    "$$\n",
    "\n",
    "where:\n",
    "- $x' = x \\cos \\theta + y \\sin \\theta$\n",
    "- $y' = -x \\sin \\theta + y \\cos \\theta$\n",
    "- $\\sigma$ is the standard deviation of the Gaussian envelope.\n",
    "- $\\theta$ is the orientation of the normal to the parallel stripes of a Gabor function.\n",
    "- $\\lambda$ is the wavelength of the sinusoidal factor.\n",
    "- $\\gamma$ is the spatial aspect ratio.\n",
    "- $\\psi$ is the phase offset.\n",
    "\n",
    "The Gabor filter is essentially a sinusoidal plane wave of a certain frequency and orientation, modulated by a Gaussian envelope.\n",
    "\n"
   ]
  },
  {
   "cell_type": "code",
   "execution_count": null,
   "metadata": {},
   "outputs": [],
   "source": [
    "# TODO: Define a single Gabor Filter (use cv2.getGaborKernel()) and visualize it\n",
    "# TODO: Check what the parameters mean and how they affect the filter\n",
    "kernel = \n",
    "\n",
    "plt.imshow(kernel, cmap='gray')\n",
    "plt.title('Gabor Kernel')\n",
    "plt.axis('off')\n",
    "plt.show()"
   ]
  },
  {
   "cell_type": "markdown",
   "metadata": {},
   "source": [
    "## 2.2 Apply the Gabor filter to the image\n",
    "\n",
    "Now we want to apply the gabor filter to our needle Ultrasound image."
   ]
  },
  {
   "cell_type": "code",
   "execution_count": null,
   "metadata": {},
   "outputs": [],
   "source": [
    "# TODO: Define Gabor filter parameters inside a list (start with lambd = 0.8)\n",
    "lambda_vals = [0.8]  # Example values for lambda\n",
    "ksize_vals = \n",
    "theta = \n",
    "sigma = \n",
    "gamma = \n",
    "\n",
    "\n",
    "# Calculate total number of kernels\n",
    "total_kernels = len(lambda_vals) * len(ksize_vals) * len(theta) * len(sigma) * len(gamma)\n",
    "\n",
    "# Initialize subplot dimensions\n",
    "columns = 4  # Adjust as needed\n",
    "rows = int(np.ceil(total_kernels / columns))\n",
    "\n",
    "# Create figure for plotting\n",
    "fig = plt.figure(figsize=(15, 10))\n",
    "# Loop for kernel generation, application, and visualization\n",
    "index = 1  # To keep track of the subplot index\n",
    "for l in lambda_vals:\n",
    "    for k in ksize_vals:\n",
    "        for t in theta:\n",
    "            for s in sigma:\n",
    "                for g in gamma:\n",
    "                    #TODO: Create Gabor kernel and apply it to the image (you can use cv2.filter2D()\n",
    "                    filtered_image =\n",
    "\n",
    "                    # Visualize filtered image\n",
    "                    plt.subplot(rows, columns, index)\n",
    "                    plt.imshow(filtered_image, cmap='gray')\n",
    "                    plt.title(f\"Filtered Image\\nLambda={l}, Ksize={k}, Theta={t:.2f},\\n Sigma={s}, Gamma={g}\")\n",
    "                    plt.axis('off')\n",
    "                    index += 1\n",
    "\n",
    "plt.tight_layout()\n",
    "plt.show()"
   ]
  },
  {
   "cell_type": "markdown",
   "metadata": {},
   "source": [
    "## 2.3 Apply Gabor Filter to a Video"
   ]
  },
  {
   "cell_type": "code",
   "execution_count": null,
   "metadata": {},
   "outputs": [],
   "source": [
    "# Load the original video\n",
    "video_cap = cv2.VideoCapture('data/needle_detection.avi')\n",
    "\n",
    "# Prepare to save the processed video in MP4 format\n",
    "fourcc = cv2.VideoWriter_fourcc(*'mp4v')\n",
    "ret, frame = video_cap.read()\n",
    "height, width, _ = frame.shape\n",
    "out = cv2.VideoWriter('data/processed_needle_detection.mp4', fourcc, 20.0, (width, height))\n",
    "\n",
    "# Process the video\n",
    "while video_cap.isOpened():\n",
    "    ret, frame = video_cap.read()\n",
    "    if not ret:\n",
    "        break\n",
    "    src = cv2.cvtColor(frame, cv2.COLOR_BGR2GRAY)\n",
    "\n",
    "    # TODO: Apply Gabor filter with the parameters you found to be the best\n",
    "    dst = \n",
    "\n",
    "    # Convert back to BGR for saving\n",
    "    dst_bgr = cv2.cvtColor(dst, cv2.COLOR_GRAY2BGR)\n",
    "\n",
    "    # Save the processed frame\n",
    "    out.write(dst_bgr)\n",
    "\n",
    "# Release everything when job is finished\n",
    "video_cap.release()\n",
    "out.release()\n",
    "cv2.destroyAllWindows()\n"
   ]
  }
 ],
 "metadata": {
  "kernelspec": {
   "display_name": ".venv",
   "language": "python",
   "name": "python3"
  },
  "language_info": {
   "codemirror_mode": {
    "name": "ipython",
    "version": 3
   },
   "file_extension": ".py",
   "mimetype": "text/x-python",
   "name": "python",
   "nbconvert_exporter": "python",
   "pygments_lexer": "ipython3",
   "version": "3.9.5"
  }
 },
 "nbformat": 4,
 "nbformat_minor": 2
}
